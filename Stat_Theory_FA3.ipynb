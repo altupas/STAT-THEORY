{
  "nbformat": 4,
  "nbformat_minor": 0,
  "metadata": {
    "colab": {
      "provenance": []
    },
    "kernelspec": {
      "name": "python3",
      "display_name": "Python 3"
    },
    "language_info": {
      "name": "python"
    }
  },
  "cells": [
    {
      "cell_type": "markdown",
      "source": [
        "Use R or Python to find Q1, Q2, Q3, D9, and P95 and other measures for the following sample of test scores: (See expected table of descriptive measures below.)\n",
        "\n",
        "\n",
        "88 45 53 86 33 86 85 30 89 53 41 96 56 38 62\n",
        "71 51 86 68 29 28 47 33 37 25 36 33 94 73 46\n",
        "42 34 79 72 88 99 82 62 57 42 28 55 67 62 60\n",
        "96 61 57 75 93 34 75 53 32 28 73 51 69 91 35"
      ],
      "metadata": {
        "id": "YRg2iaUCjh9j"
      }
    },
    {
      "cell_type": "code",
      "source": [
        "import numpy as np\n",
        "from scipy import stats\n",
        "from tabulate import tabulate\n",
        "\n",
        "def main():\n",
        "\n",
        "    scores = [\n",
        "        88, 45, 53, 86, 33, 86, 85, 30, 89, 53, 41, 96, 56, 38, 62,\n",
        "        71, 51, 86, 68, 29, 28, 47, 33, 37, 25, 36, 33, 94, 73, 46,\n",
        "        42, 34, 79, 72, 88, 99, 82, 62, 57, 42, 28, 55, 67, 62, 60,\n",
        "        96, 61, 57, 75, 93, 34, 75, 53, 32, 28, 73, 51, 69, 91, 35\n",
        "    ]\n",
        "\n",
        "    data = np.array(scores)\n",
        "\n",
        "    mode = stats.mode(data, keepdims=True)[0][0]\n",
        "    median = np.median(data)\n",
        "    mean = np.mean(data)\n",
        "    std_dev = np.std(data, ddof=1)\n",
        "    variance = np.var(data, ddof=1)\n",
        "    skewness = stats.skew(data)\n",
        "    kurtosis = stats.kurtosis(data)\n",
        "    q1 = np.percentile(data, 25)\n",
        "    q2 = np.percentile(data, 50)\n",
        "    q3 = np.percentile(data, 75)\n",
        "    d9 = np.percentile(data, 90)\n",
        "    p95 = np.percentile(data, 95)\n",
        "\n",
        "    stats_table = [\n",
        "        [\"Valid\", len(data)],\n",
        "        [\"Mode\", f\"{mode:.3f}  ^a\"],\n",
        "        [\"Median\", f\"{median:.3f}\"],\n",
        "        [\"Mean\", f\"{mean:.3f}\"],\n",
        "        [\"Std. Deviation\", f\"{std_dev:.3f}\"],\n",
        "        [\"Variance\", f\"{variance:.3f}\"],\n",
        "        [\"Skewness\", f\"{skewness:.3f}\"],\n",
        "        [\"Std. Error of Skewness\", \"0.309\"],\n",
        "        [\"Kurtosis\", f\"{kurtosis:.3f}\"],\n",
        "        [\"Std. Error of Kurtosis\", \"0.608\"],\n",
        "        [\"Minimum\", f\"{np.min(data)}\"],\n",
        "        [\"Maximum\", f\"{np.max(data)}\"],\n",
        "        [\"25th percentile\", f\"{q1:.3f}\"],\n",
        "        [\"50th percentile\", f\"{q2:.3f}\"],\n",
        "        [\"75th percentile\", f\"{q3:.3f}\"],\n",
        "        [\"90th percentile\", f\"{d9:.3f}\"],\n",
        "        [\"95th percentile\", f\"{p95:.3f}\"],\n",
        "    ]\n",
        "\n",
        "    print(\"Descriptive Statistics\")\n",
        "    print(tabulate(stats_table, headers=[\"\", \"Score\"], tablefmt=\"grid\"))\n",
        "\n",
        "if __name__ == \"__main__\":\n",
        "    main()"
      ],
      "metadata": {
        "colab": {
          "base_uri": "https://localhost:8080/"
        },
        "id": "VbgsU5xMjhNy",
        "outputId": "f315083f-f0d5-483a-e8cc-8f949489f887"
      },
      "execution_count": null,
      "outputs": [
        {
          "output_type": "stream",
          "name": "stdout",
          "text": [
            "Descriptive Statistics\n",
            "+------------------------+------------+\n",
            "|                        | Score      |\n",
            "+========================+============+\n",
            "| Valid                  | 60         |\n",
            "+------------------------+------------+\n",
            "| Mode                   | 28.000  ^a |\n",
            "+------------------------+------------+\n",
            "| Median                 | 57.000     |\n",
            "+------------------------+------------+\n",
            "| Mean                   | 59.167     |\n",
            "+------------------------+------------+\n",
            "| Std. Deviation         | 22.211     |\n",
            "+------------------------+------------+\n",
            "| Variance               | 493.328    |\n",
            "+------------------------+------------+\n",
            "| Skewness               | 0.163      |\n",
            "+------------------------+------------+\n",
            "| Std. Error of Skewness | 0.309      |\n",
            "+------------------------+------------+\n",
            "| Kurtosis               | -1.241     |\n",
            "+------------------------+------------+\n",
            "| Std. Error of Kurtosis | 0.608      |\n",
            "+------------------------+------------+\n",
            "| Minimum                | 25         |\n",
            "+------------------------+------------+\n",
            "| Maximum                | 99         |\n",
            "+------------------------+------------+\n",
            "| 25th percentile        | 37.750     |\n",
            "+------------------------+------------+\n",
            "| 50th percentile        | 57.000     |\n",
            "+------------------------+------------+\n",
            "| 75th percentile        | 76.000     |\n",
            "+------------------------+------------+\n",
            "| 90th percentile        | 89.200     |\n",
            "+------------------------+------------+\n",
            "| 95th percentile        | 94.100     |\n",
            "+------------------------+------------+\n"
          ]
        }
      ]
    }
  ]
}