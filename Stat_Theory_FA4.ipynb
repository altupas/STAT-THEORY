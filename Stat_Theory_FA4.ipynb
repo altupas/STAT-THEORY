{
  "nbformat": 4,
  "nbformat_minor": 0,
  "metadata": {
    "colab": {
      "provenance": []
    },
    "kernelspec": {
      "name": "python3",
      "display_name": "Python 3"
    },
    "language_info": {
      "name": "python"
    }
  },
  "cells": [
    {
      "cell_type": "markdown",
      "source": [
        "1. Find the (a) first, (b) second, (c) third, and (d ) fourth moments for each of the sets of data (normal, skewed-right, skewed-left, uniform)."
      ],
      "metadata": {
        "id": "0d6OzEIezkKF"
      }
    },
    {
      "cell_type": "code",
      "execution_count": 2,
      "metadata": {
        "colab": {
          "base_uri": "https://localhost:8080/"
        },
        "id": "w0ZsYAG0zZZm",
        "outputId": "d3f7f03d-6131-41ed-fa9f-13d995411d08"
      },
      "outputs": [
        {
          "output_type": "stream",
          "name": "stdout",
          "text": [
            "\n",
            "Normal:\n",
            " m'1 = 64.6600\n",
            " m'2 = 4188.6600\n",
            " m'3 = 271845.8200\n",
            " m'4 = 17675925.0600\n",
            "\n",
            "Skew_right:\n",
            " m'1 = 32.4400\n",
            " m'2 = 1163.0800\n",
            " m'3 = 47397.0400\n",
            " m'4 = 2230928.4400\n",
            "\n",
            "Skew_left:\n",
            " m'1 = 80.8400\n",
            " m'2 = 6788.8000\n",
            " m'3 = 583803.2000\n",
            " m'4 = 51288614.3200\n",
            "\n",
            "Uniform:\n",
            " m'1 = 12.0140\n",
            " m'2 = 144.4138\n",
            " m'3 = 1736.8541\n",
            " m'4 = 20900.2535\n"
          ]
        }
      ],
      "source": [
        "import numpy as np\n",
        "\n",
        "normal = [67,70,63,65,65,60,70,69,64,66,\n",
        "          65,71,62,66,68,64,67,62,65,63,\n",
        "          65,66,65,63,69,62,67,59,62,65,\n",
        "          63,65,60,67,64,66,61,61,65,62,\n",
        "          65,70,64,63,65,65,64,61,61,66]\n",
        "\n",
        "skew_right = [31,43,30,30,26,29,29,46,26,29,\n",
        "              57,44,34,36,40,28,26,66,30,33,\n",
        "              24,35,34,40,24,29,25,24,35,33,\n",
        "              75,38,34,35,38,19,28,26,31,25,\n",
        "              28,19,28,23,31,25,28,25,22,28]\n",
        "\n",
        "skew_left = [102,55,70,95,73,79,60,89,112,72,\n",
        "             92,76,93,76,97,70,85,85,83,58,\n",
        "             10,92,82,87,104,75,87,80,113,90,\n",
        "             93,90,84,73,94,79,71,90,71,68,\n",
        "             71,82,83,93,65,77,81,77,81,77]\n",
        "\n",
        "uniform = [12.1,12.1,12.4,12.1,12.2,12.2,12.2,11.9,12.2,12.3,\n",
        "           12.3,12.4,12.3,12.3,12.4,12.4,12.1,12.4,12.5,11.8,\n",
        "           12.5,12.5,11.6,11.6,11.6,12,11.6,11.6,11.7,12.3,\n",
        "           11.7,11.7,11.7,11.8,11.5,11.8,11.8,11.9,11.8,11.9,\n",
        "           11.9,11.9,11.9,11.9,11.9,12,12,12,12,12]\n",
        "\n",
        "datasets = {\n",
        "    \"Normal\": normal,\n",
        "    \"Skew_right\": skew_right,\n",
        "    \"Skew_left\": skew_left,\n",
        "    \"Uniform\": uniform\n",
        "}\n",
        "\n",
        "def raw_moments(data, k):\n",
        "    return np.mean(np.power(data, k))\n",
        "\n",
        "for name, data in datasets.items():\n",
        "    print(f\"\\n{name}:\")\n",
        "    for k in range(1, 5):\n",
        "        print(f\" m'{k} = {raw_moments(data, k):.4f}\")"
      ]
    },
    {
      "cell_type": "markdown",
      "source": [
        "2. Find the (a) first, (b) second, (c) third, and (d ) fourth moments about the mean for each of the sets of data (normal, skewed-right, skewed-left, uniform)."
      ],
      "metadata": {
        "id": "pEG91ZipzuYx"
      }
    },
    {
      "cell_type": "code",
      "source": [
        "def central_moments(data, k):\n",
        "    mean = np.mean(data)\n",
        "    return np.mean(np.power(data - mean, k))\n",
        "\n",
        "for name, data in datasets.items():\n",
        "    print(f\"\\n{name}:\")\n",
        "    for k in range(1, 5):\n",
        "        print(f\" m{k} = {central_moments(data, k):.4f}\")"
      ],
      "metadata": {
        "colab": {
          "base_uri": "https://localhost:8080/"
        },
        "id": "TJTpz5n2zzYQ",
        "outputId": "4aec8163-d98a-4d8f-cd34-181960b157cd"
      },
      "execution_count": 4,
      "outputs": [
        {
          "output_type": "stream",
          "name": "stdout",
          "text": [
            "\n",
            "Normal:\n",
            " m1 = 0.0000\n",
            " m2 = 7.7444\n",
            " m3 = 5.5586\n",
            " m4 = 160.0348\n",
            "\n",
            "Skew_right:\n",
            " m1 = 0.0000\n",
            " m2 = 110.7264\n",
            " m3 = 2482.7960\n",
            " m4 = 102172.7818\n",
            "\n",
            "Skew_left:\n",
            " m1 = -0.0000\n",
            " m2 = 253.6944\n",
            " m3 = -6020.7026\n",
            " m4 = 580345.3422\n",
            "\n",
            "Uniform:\n",
            " m1 = -0.0000\n",
            " m2 = 0.0776\n",
            " m3 = 0.0020\n",
            " m4 = 0.0117\n"
          ]
        }
      ]
    },
    {
      "cell_type": "markdown",
      "source": [
        "3. Find the (a) first, (b) second, (c) third, and (d ) fourth moments about the number 75 for the set of female height measurements."
      ],
      "metadata": {
        "id": "y2wbF13ZzzyI"
      }
    },
    {
      "cell_type": "code",
      "source": [
        "def moments_about(data, a, k):\n",
        "    data = np.array(data, dtype=float)\n",
        "    return np.mean((data - a)**k)\n",
        "\n",
        "for k in range(1, 5):\n",
        "    print(f\" m{k}(75) = {moments_about(normal, 75, k):.6f}\")"
      ],
      "metadata": {
        "colab": {
          "base_uri": "https://localhost:8080/"
        },
        "id": "5NvCchaq1EuI",
        "outputId": "e92e70fd-8284-4aa8-8dee-0c0d6c488a69"
      },
      "execution_count": 9,
      "outputs": [
        {
          "output_type": "stream",
          "name": "stdout",
          "text": [
            " m1(75) = -10.340000\n",
            " m2(75) = 114.660000\n",
            " m3(75) = -1340.180000\n",
            " m4(75) = 16329.060000\n"
          ]
        }
      ]
    },
    {
      "cell_type": "markdown",
      "source": [
        "4. ![Screenshot 2025-10-03 100404.png](data:image/png;base64,iVBORw0KGgoAAAANSUhEUgAAAn8AAABJCAYAAABM8kBiAAAAAXNSR0IArs4c6QAAAARnQU1BAACxjwv8YQUAAAAJcEhZcwAADsMAAA7DAcdvqGQAAEV6SURBVHhe7d0JnCRFlT/w3FWQU2FBFARUllUQkGvlEEGuARQY7ltuZsVFUARBXI4/coMICIgXxzByyn3KzYCDKIjAcA+o4CKgICKyoBz5z29QUWTnZFVldVd198zk7/PJT3dGZkW8ePHixYsXLyL/Jc2Q1KhRo0aNGjVq1Jgh8K+NvzVq1KhRo0aNGjVmALzr/2Vo/J888MADyR/+8IfkAx/4QPKv/zrQLvzb3/6W3HnnnQlH4dxzz91ILcevfvWr5Oqrr04+/vGPJzPPPHMjdXhw8cUXJ+ecc07y6U9/OplpppkaqdMm8HG//fZLll566eTf/u3fGqnDg1deeSW55JJLkiuuuCKZffbZk/nnn7/x5G2MZBt3CzJLrs8///zkpptuSv7xj38kH/rQh5J3v/vdjTeGB6+++mqiu91///3Jyiuv3EidGnh/7bXXBv4/9dRToT/OMcccjafleOutt5JJkyYl5513XvL0008niy+++FR9uJeIdfnrX/+afOITn2ikTl8gNw8++GBy9tlnB92Ip2U65fnnn0/OPffc5IYbbghy1Uk/9gN/+ctfkq985SvJP//5z0G1R6/ac8qUKUH/fvSjHw16oxPokUMPPTRZZZVVkllnnbWRWqPG0FE2RvVLT06Lcjyg1hdddFHy4x//OAyORWCUyt1+++2NlHK8/vrryU9/+tNk/PjxyaOPPtpI7Q+uueaaYOzlYeCkCKeH1ezXXnsteeaZZwJPI77//e8HQesn/v73vwejk/HxH//xH8mCCy7YePI2WrXxcNDWLcjBhAkTkq222iq59957k5deeik5/PDDky996Uth0B5OoIVsoqEVHnrooWTzzTcPNBvIL7300mSLLbZIbr755sYbU0O+P/nJT5JDDjkkKJ4lllgiede73tV42hsU2zbWRX8bTWAsH3300cGYGSpuueWWZK+99gr6cJlllkne8573NJ68A/3zv//7v5O77rorWXLJJZN55pmn8WR4YVD705/+NOj26FV7GmwZyxwFVUDHoRv97VCm62uMDOgvtgB5Ga0oG6N6pSfLdExVOR5N6LlrwMx4//33T84888xk2WWXbaT2B/fcc8+oG3z6CcI2efLkIGj9BAPEDF4HZ3jMN998jSdvo6yNh4u2boEmg5G6nHbaacmRRx4Z7nVUA8poAiODkbXSSisF7wlPDG/lZz7zmaDI/u///q/x5kBQxjyFO+64YzBWGCG9xGht2zL87//+b1DOFP1QwPC+8sork9VXXz355je/maywwgqlA8UvfvGLMNAcdthhyfrrr5+8973vbTyZMTFu3LigFz7/+c83UnqDGU3Xj2Y899xzyRNPPDGqDZ2yMapXerJXOmakMSTjT+UtE5gBvPHGG43UJJltttmSeeedt3GXhEGLMo3/87iUDWTykJerk2DJ74UXXmjclaNdWSAPz9WhXUOixbK3dyKNsT7QKZ8yOvxfrGdZ3nkwDjwvQ6Th5ZdfbqS0h/davW+Q14bvf//7GylTo9jG7WiLcqK8Yt3wIaahJc/DyI8yGmOenudlrwhlrrjiisGAiuCdWWihhZLf/va3jZRy5OUxX0ZeHvwf3ymT2U7P85Cnd8aOHdv0MlmaXmyxxYKHqZUco42B9pGPfKSR8g5a1QHwPeZZJo8R7doWOrVFu/YvQ6f8oqznZSXi2WefnSqtFdrxxr1+gKf/8i//0kidGrzkH/zgB0uX5VvRicft9Al571R3zzvJE+TrWOV96MR/iPqjKJMGXUvfecT8OrV/rFuxv0vvpOthsLoEOvGpE9+VXeRHzDNf58iLSEcnWYjlFmVIeizL3zxd/rov/iYi0lDWHnkeltUJ/Dbv9cqj1W/KEOkoexcvPMvzupXMteJFcYySZ15PRj4VeQDS8jzNo5OO8Vt0DlbWhgsDdvvyNLDqjz/++MC4PB5++OFkjz32SHbaaadkhx12CIPRPvvsE6xgig/T995772SjjTYKnhVLhpaQMd/9fffdF5YPeTLefPPNkP9Xv/rVZNNNNw3533HHHaF8gx3meEe+4p24WPMxb48//nhYlmR9R3zqU58KdFu6vvXWW5OPfexjYcmsrCz5W/M//fTTwzOD2yKLLJIcccQRU3m5QEN++ctfDvU+66yzgtFg5rDtttu2zUc53/72t5PLL7880G/mseaaayYHHHBA8OTkeQSRx/iw2mqrJbfddlv4/9RTTw2C5Hf5JcMNNtgguLDFG51yyikh1shgJI7hqKOOKo0TpGjw88YbbwwxOToDr4Z8GEWWRC+77LLG22/jO9/5TqAnj3wb40cZbWjXRvI2U+QVMXu3TGZp06Aqn1//+teBBzwtOoN24kX5xje+kfz5z38OMRnS9t133yAf7WSvCvBA+6k3WopAAzniKYwdmMLAt0UXXbQpD8qzFPX73/8+vLPccssFz2JsT8sN//M//xPoVXcGHZn4z//8z8CbKtA9jzvuuFCmtinGV+o3ZDuvRKJc/PznP0++9a1vBf7gtYH561//evK5z30u3JOvM844Ixib+g76yBr5ibDUW9a2+p82wBf98Te/+U14lucTdGr/Itq1bbt+O+ecc4a6Wh7X50F5xfoAnrbjDa83Gg0+EVG/KBf0G/L4y1/+MtxDLE+oRDu9EOVnvfXWSy644IIg4/rqsccem/zsZz8L/Up7mnwpUwyePH74wx8G/el/yMubPHfbbbfQT+gpdRSDSHYin9GHBjFQReBDlfZkhB1zzDFB7tCMR1YHhFHom3mdhe887PoAHWGpTd+ba665Ak3SGdh05Lrrrht4gQ4eVt6ZL37xi8nvfve7lro+tkXEYHRJJz514ns7HU8v5PU5RD4b16QPdmzBZ7qXLrFKQOZNcsV9yvexxx4L5YlB85s4Oamij9uN1cYCOi/yAqSJsW/Fh3YxcHgrROC73/1uk8ao8+gAf41pnWSuTI8JxYhjFH4U9SS5UD8yqZw44ZaGR2DFKHr89flWOoZstZNj/3fbJ/uOjKAmsgqnu+++e5oJRCPlHTz00EPpGmuskY4fPz7cH3bYYWkmxGnWecN9JlTpH//4x/C/dzJlnWYMad5nwpFmwh3ezxiXZsZKuvHGG6eZsZlmCiXdeuut0yuuuCLNGidcZ555ZpoZms08ikAjWiM9EZ3KgquvvjodM2ZMmgl5uH/99dfTrAHSr33ta8365IEG9XFdddVV4T4T/o75TJo0Kf385z+fZh06PM+EOPBR/Yo8gsjjiRMnhnt/3UuHSEd8DpmBkWZCnGYdKNwr98EHHwy0FCEt64zpzjvvnGazl5CWddI060QD6n7TTTcNKLcMRfrLaMs6aWhDshLzfuCBBwJPIr2xva677rrAl0zZp1knDldmDIe0bEBMV1111TQbaMNv2sleFShLu7WqH9nKlHuaGT6h/MwATP/rv/4rzQarNFP2zbpuv/32aaZEw2/QrR2iPMa647d2hyeffDLdZJNNQj/rBO1C1jLFHOQ8ym4ZPNtwww2bZcM999yTrrXWWmmmqEMfUA/11q6R99pqpZVWSseNGxd4oR96t4iyto39TztFPmUz2TRTdmmmMMN9lfYvol3bVum3eNBKh0VU4Y3f40untsoG5wH9ADrRGfmp32nnqKOygTrNBtLwjnTlZwNW0DXaGC1R3p5++ukgSz/4wQ/CfcwzyoA6oiH2K5dn2223XWjnIqq0Z9QfkW7QNltuuWWaTZbCfV5n+U02aKf7779/s30mT54c+om+7Ln3M2MuzQzM0E+kGQe0T+yfkba8fJfB8251SSc+deJ7Ox3vL16U9ZsoV7HdXN2MLZFvxknyo630Nb+59dZbQ/mZAR/KJ+fQjT5uN34quyjz7fjQDtlEI80mXOH3EfhOpjIjqrLMlekxdcnTWaYnlUvWIp+hjKY8/L6oY6rIcbd9st8Y1LJv9rvg2mQxxxmAZbTijtA8PvnJTwZrnXVt9mVG4rdZpcPsJxO0MLtkEbvMcl588cXGr7tDu7JY5GaFmTCH98Dswb1ZZiZYIa0MrPpMwJszvk75qJPZQia04TlPm9lwtPp7AXRoC7Mh7aLOPAVoKcKs8u677w7eWzNPMPP4whe+EGb6PI9Q9tvBIOtQYUaUGZvNWRXall9++QEbh/DPsiy+mNUusMACYYfzx7PZkDTvm/HxSAxG9vKwe9MMTZ0tp5bBTNeMlYdB+WakZIj8xDKBp4WcAhrEkOAx8Pplxl6SKanmrkdyE/neCZkCCV4MsmR5QB9pBTLuyiMbPIIHinfJM/X47Gc/G2iMHnHgSTSDJpd4XMynEzbbbLMmn3ieeVN578h91faPaNe2Q+m3RVTlTVmMXxHFvtINndmEN/Q/NCy11FLB+0jH4JV0fYIMkQX9gkcnyps+Iv+yeuMjGniossEn1M+lvujTj1qhXXvyiNo0lU2EAn2gbdDMk6rt8qD/0K/NY/tbIscPz5QB6rLrrruGfiIN3d4nO92iW13SiU+d+N4rHd/t2AJo4YUnP9rqwx/+cPDUxvaz+qXemfER3u9GH7caP1thsHzQv9Eo/jr2O2OU/LRjVZmrosekFdPVdeGFFw4ed/IAToTAS5u8ukE7OR5Kn+wXBmX8IZricnyGZRIB0Y5CiMyrAkyh7ADTCK/ddYTMxZVLGUsfKvJlYTRlxk3MZR4vbneDTjbTCO+Vwe6gKMxV8qE4KXWCK52A5Y2HXkAH514/6KCDQoe1BJDNSBpPB0KsAsVSjOXTmXQedPcSlj2Umc2+mvyhmHR0nbsddNLI6wi0D0X2GGQHHnhgWFJh/BXzL8Kgm82Iw1IIhdAODIVZZpmlcZckjzzySFBWxZ3SVaFPHHzwwclVV12VrLPOOl3triObduczNPNLY/oBRUdBRznUvyjgXiEu3UC37d+ubYfSb/PohjeDwVDoVP+iTL711lvhiiADdOMPfvCDcGRQGQzCaBDaYSkw0sC4sJSmH1VFvj0NYpZxTXrydfve974XBuE4eEdY7mN4CcN57rnnQjvec889wZCJy8hlyOvrXqCVLumGT6343isd3+3Y0gplE5ZYj8Hq4yrtMVg+GHf0dRNdS9J+Q+cxOI1LVWVusHqMfFvyJqNxos0O2WSTTQboh8Egz7de9sleYYDxhxGEw6BXhEYhdHEwM2NgyYotI5B2eYk9GwyUKw7CmXJ21zFmdACxPlVm390gWv9f+9rXwgwjf2kYxlQVVMlHvU488cQQO2FGIm5BrIm69QoUqXgWbYFvjL9ddtkldJiq0K79ED60GVCvv/76qXjECBssBiN7DD98omgYftquFbSP+DqGyKRJk4K3wkyw3zDIq0/ekEWnMwEpDwPoUNHJ6O4lBtP+rdq2Sn8bKnrBm37RyesiFmz33XcPBjHjqdWGLEYEGniKijSI4fz0pz/deLM7aE9eFe1RzFfcU1ls13bbbRcmRTyKBj1xbYx6k5uRRhU+deJ7P3R8v2SoX/oYhsIHRpCJshg9epoXjEdM+wxG5rqF0xXEDOOtfAFNvUS/+uRQMGAERACjITIggmFgdsC6zi+VaRiBrCeffHLwpnDDDkboWfDjx48PwbGOTjDgCqjtx5lZhNRAzhVenKl2g6r5aHRLBpYRBXoKtLUU4ve9BE+GwF1HhdikwPNUhJmRmVbcoBBhSZFgttvdOxhQlAZwM5teoxvZi4afiQXD2G/bQV6WSAQjm5TwvLXzVJTB+yZR3SxdmXFaJo5LxxH4xzCpOhEyY/33f//30M74H2ECp3+bUfdCaXbCYNu/rG3JZy/6bb950yv9UkQMsucN0s8tHaG1DOh3yDI5KpvIDxbKI4NF/dEOBlQDK8+KQc4gbulrNKAKn6rwvZWOZ/TSt92iXzLUT30MrfjQCYw7fOUtZGeg01IwDEbmukUs3zEwzgFcY401Qlov0a8+ORQMMP64bu2AsbuLe5sblovbwMkrxz2qMXgmLINZj/e/ZUbGBqU6FFepcseOHRuMQMZfFdcxVy2BxtS8x6QVdEYuXTuH7MpheDJu1Ye3oVN5EVXywR8DunS06cx2uuEhAbfEZOcQj484DmcSVREM+aqz9jFg6TDR8DFrMniWucDN+hhAP/rRj4JBhCZ52NVqpiMOaqjI02bZ3izQbjBKQHm8V0cccUSY5Q0G8uhG9sgHZYTnaJk4cWL4vYtsy6MIbcDTFhWvssSJdQOTJJOXCRMmhHbWPryyrZbqQBug0xKvOvkN+TLD1W4x7qgKNtxwwyBTypQPGbTDnAx6RlF3i3zbVkG37d+ubfWbqv1WGSY0BoyyCUE/eBPRK/1SBL7Li0zijV3G+Z3GRaiHQd4EhjzTMeJ6hRJUDR8ogv4QG0keTY7kSbYtwRkfWkGfo9e33377cB6i3ZftYlhboVtdXwWd+NSJ72S1lY43mebhFEdKlskaORN33A79kqFe6mN8wTf9SLx5Oz7YaavtTQBagfElL7uFxTFaMoXByly3UL42svLp/07opGPK0I8+ORQMMP4YDTwdlsW4b23t5inRkAakGCelI2CS9X2D0pgxY0KQo0DSwYBwG7gtEdiqrvHBtm3Komz2432NxIVtufOEE06o3AirrrpqMGhZ+byd3L4MIELWzUytUz48cDxx7r1LWLnCdQoxHmIj1JHRbWlh7bXXbhsjxvOqzgxz7xq8CJHZqXTlUA6ODhD4W4QZlHIE0mpX8R7iBCkESzGdPGLtUEabeAfB0hQgj5byyBQZijO7btGN7Hk3TmJ4HdTRwZ/x0laMvCJ4ndBs2ZfXj7Es/27ikMwctbWlInyxjGFpQ7xNK7zvfe8LitgskWygw/Ej2tUxBd20D/6aTFG48iGbjq+xnN3t4etlbVslxk4f7ab9O7VtlX4rXT7KkU+Zx6CXvClDr/RLHpaL6BMDiGB3AfoGVB7RMsQ6MlTwko5xtIr60T+DQdQf6sELJk/9g4enbJmMEUC308/k10YzGyhMeOkfg30VDEXXd0InPnXiezsdz4O35557hgmM53SA3/EsdUI/ZKjb/tgKQjOML+Lw6Ejxeu34EI1MHvxWkB8ZYuzlZalbmRsseFpt8JB/2diZRxUdU4Z+9MkhIWuYUmRWafriiy+mmTXcSJka3sms8LAdeyjIBpPS4xlsg84aPM06eiNlamSzoLY0doK8h0o/tMsHfa1o9Jus4zTuqkFe6p2H+2w21rjrDG0nH397iTLaIOssLXkwGPRK9toBP8vq0i3IRrd8Vi/160X7qEMv6tGqbaugm/av0rbt+puyqvKuV7xphV7pFxiszPejjmjppD8effTRcETIQ42jLiLcS/e8G6hDL3VIEa34VIXv6GpFW/w9uRwMeilDEUPVx63q1IoPF154YeqIk6GgiswNFpkxGY7wuS935Es7dKNjytCPPtkt3pXNBEpPmzUbELPQztvhHe7ZVrPPqsiEO7jGzQp5TNzbZSk+hAekXYCrmUE3Hpki/Hao9EO7fDxrRaPfdDuTk5d65+E+usqrQNvJx99eoow2iOX1Cr2SvXaQf1ldusVg+Kxeyu9F+6hDr+ox2Hy6af8qbSuvVs/j76vwrle8aYV2dHaLKnwpQz/qGNuzHY89s1RpWdDSfTbYhWUvHmQhJvGYkqpQh6oyNBi04lMVvqOrFW3x9+141Q69lKEItAyFl63qVMYHS8y333578BIOZXUp0jxYPraD5Xhx1dtss00lGlvVvyr60Se7xYAvfIwUkGDtm9uYOxcoCzusuET70dg1atSoUaO/sNwnxs8mPnFiYsCEmgh/MHjWmP5hfHf12oDtFcTNH3LIISHsTEjUjIJRYfzVqFGjRo0aNWrUGB6MTlO8Ro0aNWrUqFGjRl9QG381atSoUaNGjRozEGrjr0aNGjVq1KhRYwZCbfzVqFGjRo0aNWrMQKiNvxo1atSYhvHWW2+FLzS8+ebbX6GoUaPG9AH92WHWe++9d/jimb7eK9TGX40aNWpMo/C1AEep+MqAc9R8OqqXA0SNGjWGH75IBb5q4ytPPsnnk6yOpOlV/66Nvxo1asxwiMp1WoTPZPEGxDP0eAecnefzmz5F+OKLLzberDFaMC3LW1U4wPvuu+9u3PUHJjmD/S78tALfkfcpO/W86qqrkuOOOy6cdexjF9dee204NLsXqI2/GjVGKXzs29du2sHAzwiw5FejGi677LKgXH2TdFpEpFvbf/SjHw3/w9ixY8Pfa665JvytCvn4zq6/nVDLW/cYaXnjKZoyZUry7W9/Ozn55JP7Eh4gv6997Wth8tEvKMMHyUx4RgoOhL788suTM888M3jl+tEP7rvvvvCls8UWWyy0V5w43HbbbclSSy3V8dvDVTFk48+H8X2c2Me2h4K///3vyZFHHhks3ZECJvtQs0G3xkDgCd7MCDPY0QCfwjriiCOS888/v5FSjqeeeir58pe/nNx///2NlBrtYADhnfBx9uWWW66ROu0A/Y899ljyuc99LvnABz6QfPOb30y++MUvhmfR6+LrSN3gd7/7XfKVr3wleeihhzr281reukOUt/e///3hw/7DDcaJpULtO8888yTzzjtvsuKKK4avaaGtV5g8eXLy29/+tq996umnn04eeOCBEem3eOWzhJ///OdD3+DlZITutNNOwRPfKyjn4YcfTtZff/1kzjnnDGnkZ+ONN04WXHDBYMD36otnQzb+EEthvPTSS42UzqBAjj766GA4Rph53nzzzeFbkP/85z8bqcML3/Zj2Q91TR0vDj300GnWiCyjH0/wBo9qtEcv2p+XwKC83nrrNVLKsfDCCydrrrlm+DblG2+80Uit0Qra5o477khWX331afKzkdGLYxDK008PH3/88clJJ50UDNuq8LuLLrooGCY8DZ36eS1v3cEn7cibwXuOOeZopA4fjKuWCn1Ob+eddw5xoQxAaUMd5/L4xS9+EQzcTTbZpJHSe/CI9aIM9TbBIftVYQWGV1NbmpQfdNBByTe+8Y1gqDEKe+UBZODKM6/3P/WpTyWXXHJJstBCCyV77bVXx9WgqhiRZV9WMwMwz3wf+qaEjjnmmGTmmWdupE6bsCziG8W97FzDiWmd/pHGUPlHkVi6M4gvsMACjdRyMAAYMo888kjPYkGmZ8Slt89+9rPh77QGXgceHN6bCHp0q622SnbZZZdklVVW6WpQe+aZZ5I777wzLBlX+dB8LW/dIXpjGX8jgSjvf/3rX8Nf7TfXXHMFozB+R3+oIG82HjEw55tvvkZqb6EMXj98ZAAOFXnHUxWINYTddtutqdeXWWaZ5H3ve18w1hhtvQADd9lllw3xffDCCy+EVVHfRaazbPrgJOsFmsYf5pqlqJiL1yJvYZrlSXNVGdR4755//vnS95999tmpFFQUyqLhly+3ONNURqQxlvfyyy+H+zyURfjL8miFdvlBO34oKy9csfyiR9N9MX95eTdPp3fQ0srib0VLvk274UGR/iLk16ruEMtCc7HORahTfEc9/c7vIdarShsU6yTPyC9/87RG+vNl5TFUfrbiX7vf5KHDW9pbbbXVGilvI8pBkR8f/vCHwxIgxdEKaGY4RIXvnmeR0o60SGMM3Hrrrc06jjag68EHH2wGfbs3kN1yyy3N2Te6ea9uuOGG4MHK14PRwkASUzMSKKMfz6+77roB9Nu0oT3JUZ5+Hpa11167+ZF8z9ZYY42wHDRmzJiwnNfNMtTjjz+ezDLLLM3BJg+0lfWDqvKGFvyO90V5Q7u6k0vP8/UcLUCXwb2KvHmnWI8ob/0yijqBTJx++unB6wfGXm2+yCKLhCviz3/+c2gb9LvoTIYGeXMP+hK9pP4xDXjT1bOTx5nuK5bhd7H9wV9ywrudLwMmTZqUrLrqqgM83oNFt8YffYFfs846ayPlbZslhlgYFwDNrfp3Xu5b9e/bb789yIu8pa+77rrJvvvuG57FMuJy8FDxL1kBoWQNsc8++wRFMnHixNBIG2ywQYgXoETjjhN473vfG1yflgri7ygDwZhilRw3IFbJ/2CNXjzf7LPPnnzrW98KlmsrNym35g477BAqTol5XxnKnmmmmcK2Z/Eu7gVAWnc3SJ599tnhPbPXHXfcMcTB+B/j0cfbyO3uHWfmmKUUIT9KdMstt0zOOOOMwGxKdtNNNw0N8O53vzvQ1Y4ftmRffPHFzbqDPG+88cbklVdeaXo25XPYYYcFQTnttNOagxH3riUVaXjkfa5mz3Ueu/q+9KUvVaIlts0KK6wQ8vjNb34T3hEwatl90UUXDfd5lNEv7ROf+ESY9eC9MuNMKLatpQTg0SUzjAy0qLNg580337xJYx7azezU76+88srQWfBbzAO3OqVU1gZVZcOuyHPOOSfwkrdE7As5pcRAR8MvstELfrbiH892VTm89957A09POeWUMGhQtpaRlYc/RRkHMmaGqG5F+A1+brjhhsGwE5h97rnnJn/4wx/CoC/U4tRTTw393llSaEUnGbTMNxQouxtog1YeKM/oBoOMAQ2PKFBLWGgmR4cffngYPPQhyyXqRm54xkC8Gl5YNh1uoP+rX/1q+N9Apj/RMXhOpugIaWSOzKy88spBjtAa5USbH3zwwSH+B7SlCYGBxYTn9ddfD7K4+OKLh+ed8L3vfS8YBOSLzMsLDfobesQBAjmxrDz//POH+07yxjuIBv2MHFsay8vbsccem+y3334hP+MMT7fg9uGWN4iGdBFR3gz499xzz1Tyxig84IADgi40pq211lpBh40bN67ZXiMpb3moC+C7fk4PrrPOOqHNjfV77LFHkEGyh14yRCe/5z3vCe/oQ2L7LT3qn4xdfdD/dCYdaxNE1JtF4J+lVjJNTrfddttASyzD2Ea+lEvf8e4xNuWpDB5U/KdbW5VRFcYC7aOtuskrylaUF2OTfsKAwwPOq6H2b7aTXftsJdA/vbf00ksH/vB+4kkrme0KmVAEZIN0uvvuu6fZ4JlmmafPPfdcSMsaLc1mD2lmuaZZ5cM1fvz4dLvttktfeOGF5u+yAT/k43f+zwb/cP/000+nm2yySZp1/nAPfu83fhuRMTLNGBCegXKzzpRmjZ1mjRXKRUNmnKZ33nlneCcT4jRT8GkmMGmmiMI7V1xxRfhdprTCO5mBlWaDbpoJUrjPjJM0E67wfxExv2ywD7TFMj/zmc+Ev9CJHyAfdVGniEy5pVkjp9mgGu7xKTPk0jXXXDPNBCWkZYKQZsKTZsZHminxNFMsaWbopdnMKjxHd2aYphdddFG4r9o2Y8eOTbPZVXiezeLTzHBIM2Uf7stQRn9sn+23377Zttkgm2aKotlmWQdOd9ppp8DzyO9MWEO9Y5sV4bfZYN6sgzzR68qUa0jLOk+azfjSTEmF33QjG2TZO+qNNvzKDKDwm8yYCr+RD/SKn2X861YOswGk2T+y2WB6wgknBBkH9Kl/NhCFe1CHYp+KuPTSS9NsoA38W3755YPcZTPr8IycScsM7Wa9M0MilJ8N7IF3EZ65z6d1Ahnec889B1zZBC/NBp80M37D/7vuumuaGWdpZpyG/hDrWQT6tE82eASaXddff314hiY0uzKjtUmr9zMDqUnz97///WY7DTf0Y7zXzyP9ZDvSinbPI/3gf3zRJhF5+j13ZYNEmhnw4eqmfejqbBBv3L3Tz7fZZps0M2pCGllFVzb4N+moIm9RtsrkjR7JBrMBdS/KG7jvpr3wYaWVVgr9mm5SdmbApZnRHORt//33DzK4yy67BF2Kt5G2Ip588slAa769Yh+JNOflzeVenrEeIylveaDxs5/9bJoZH2lmhAyQp4033jjNJoOBVnXMJtFN+qPOyCbvTT7FtMsuu6x5T6e2gzzp0lgG+SiWsfXWW08lJ7EM6erQCyiXnhlqu/zkJz8JNMb271X/zsN7xjTv3X///S3fGwymMh+tY7M8eRzMeFjHvDtmNaxkl2BEngvu4yL8zmwwupTFLH3yk58M1nw3cNaN2ZWyWLnKtea95JJLJplyaXoO5Z8NHsFS9g5azSQyJRZmO2YZrG8WNpi5xNlrGeRnhjLbbLOF/DLDL5TJNS2/bvkRgQfejctu3N3iBXieeJEAzbwWPBuZsAcPEFrMFADd3MC8XupTlZbNNtsseEE8n3vuucMshEe0W9c3mLnEtsVLvLHLC8yK1cESgzYAHsOsEwR3divgDT6jj/xoAzMd3jZpfs/zGevUjWzwKnhHvS1X8dJFXvBCKIN3o5u27Zaf3cohT0Le+4U3ZpRxNohG3kOz5YjoeS2DmC7thl7gIY1e37iEjDfRE4Be8snLGn+TKaFQZ3UlkxdeeGFI7wSeuBNPPHHA5WQAniOX/812eSIdiWEGHetZhL6B9+QMeAIy4y78nxkhwbuAN+iLdJMBHip1Ap6z+KwbqH83Vxn0c7KFr6BN9OfIc3TyHkT6pVl6i+9H5OnPDLBwWQ3gYXdV9QqQa/GpxfxBnmQCyKp+pJ9Y4oMq8hY942XyRsfxWsZ6FuWNN5LXnrxlxmg4XiO2YTtoX14XXpYrrrgirEDxlPA+kjcyQwYF75933nlB5spWQEA+dFnc2axOsY+UyVukTz3i/4OVNzqsTK5aXZ2ADh5XesTKjF3i8Xd0idWuGB+IR1GGyKyx0OpHkU8xREsbdYqhpat4+yJf6IVYRpQJ8hDLIA8Qy5BOJrtFKz7S1WXpcezoBB5tMkkmYvv3qn/n4T0rVurumJdWqyKDwVRawo6vSAwGGdR0JATojC5uSstCmRUa3iuDOBFLb9z93R4LQCkJoLSUTPAiGBSWBSigOIgW4R1LgIBxdjdZbrAcSOC5TaMAVoHy0YEedRosPz74wQ8G4yTGU1GQBlNKFX90DoYhg1sbMKK41glQLMfFDcyQoHwGS4vO3gsQRPFCEYwWSpuyjvSooyUdLvxuEI26PNRpKLIBZZ1HvkOR9U787IUckhnGjyUnsVTdHOQbl6QZ4CYSjOmIqPAtLUQY5PGZvMY2YBhnM92w/GIgmTBhQpDPTtCOZRcdU5buagXluqI+IVsRcVJlqTGfh00J+l67fDsB72PZra5ohLlMQMpgIuFd8WKw0korhb+gvxtQDKSRVvJhAkjpD4X+XsCkiY5iLHYCeYvLoq3kLV/3MnljOFp+JG8m90JkTJ46AZ/KrsHI2zbbbBOWQ6O85ftIK3kzaR9qe5E3xnxRxvJXFXnLA1/pviWWWCKEfzAEv/vd7wYZ05c9p5PUMepIz9SH7sgbfjFkRj2rwgQPTxjUyog2RpTxopxIg27KKCLy0RjK8DQumSyKGzR+4F2RryYDncBAPO2008Kud4ZcbOtprX+3LZFAIMoOG50wf/GEmb0VIVhd3B7GEiZC04vdORHdGhE8Twauo446KiiPcePGBS9DVWggQsRLx8Dolh8ROpTZEYVoEPeXcOAPPktjGNrpw5ukc/B2obVYlvgsRuJgaekX0MwAc/hlkaYDDzyw8Vb/0K1s5DEYWe8G3cihgTY/AxU8LLZEjIzZIwUePasRDNR2kB+PsXqoK5BrefPs5JVs9ETzapB/oKQuuOCC8D9vKUNZMHgnOP+LPHRztQOa5elwY30ywiAF+Vg3Aw2vQvTSxrqAfPL37UAuDF7tLpPceGmrVlDuxIkTA895vCNigHjewGhHfy8QJ7btJjYR3qFz4ipEJ3nzPqOulbzl666eEOXN5Z04ueO9hSr1F3OsjG6udojyVuwjg5E3fbBKHcgbOSqTs3hVlTexiGefffYAfcJoAROjSI/xiFOh2F7R+Itp8vnlL38ZDPUPfehDleoTwR5QTrEME4J8Wr4MbV/kY7w6IfJRbCIvL0+wyX3cEFXG43a8BOWavNOB0fAzGY9y5Plo6d+d0Nb409kpWct6Bp0quLgR7G7DhCUIbtB2y6xl0OntouFJys/25MvbID+0VQWjxKYQAcVmABrfTLMKeFi4Zi118vB0y488ePR4mK677rrgzpYnQ89g7nBrrm4GIUFQRwYjHpRhMG3Tb1AS2qvTwDAU9Fo2IoaDn1Xl0ADLy4IOl1kmo5TXd4sttggz17zXE4RVFL2hedhYZGA0u45KFnhYTDgiKC8ee0vNlLtJnDRLRTYaQDQAqniQGQAGmVaXdjTxceG9vzYdtANDVF+KoDQNKgYKx6DENEqYB4r31uYh/U5dKH0KW9C7mb60TsCzbq52MLDleY5W7UAfxHpF+rWnSaMAcUvi0g3oNiUZfNwPBcIstEG7fDwzCSJf0eDuJG888OQoDmwRBvoyeSPT5M3kyOBv4N9///2DEWlThclS3thvBXJus0/Vy3jVCUWa8aOVvMX24gAxuEsXBsXjY9ORCV87XkcU5anTVQa8tamGhy//VQx9EvJL99oXtFeECZ7VLgZuLCNO+qxk6KtxKVffmjBhQvC0xbyKiF5fKyoR8uARy+ulWAYdZLWE51cZxhV9lgfP8rUyOyHPo/xFF5elu1oh8pP+i0u30niB87wcTP+24aof/bsdOvoauYgxnVVsIFJZFTEQEIwiDMhmEHGWgxGuIiwfUPIUT9kAqFwKxi4izykBnZXgetaukSKUz71t9uJ/S6UMLMZDK6WlTDME5SmXt4N17ngFqMqPaATJL8ZmUW4MDAqHsBs81YOQ83jwXEXh4EEjFLx8YpyUQ6EyANAH3bZNNyijvxMobIrCQGVgx3PtLF6k0wy7G/RCNsrQS37m+WcC0Y0cRk+HvqFuJgwuYORa5qEgI/CAAsrPNIsw64a894Kx5covO6CRMiaTlHnewI58lc6gcjJAJxjwDNytLgouLrnEZZh28WTo0x/FhEaa8VT9KNyYpu140u069b+BWLyWvmOnrImpQUXsUa/O6KoCE0mrI3meR/r1nyL9jCKhFYyG2HaM37i01Anacvvttw95lUGZ4lljLF+EWDkyjw4DMY+JZVg6q4q8kXfjQH4pT38g02XyJvZZWXZGxmeMBZNh/SS/7NgOwip4yKtelqjbQf9Q37L2KpM3/cZEkhHKm8V40VfFyJp0iHGlq4YL+gkD1RmQgE60Ae8V+tXH6gbjxBURjbUodxBjty2f0uvkk14gjyZarfS8Moxj8teeEWV6KZah74rT1F/9nkPJIeZWUNSLjEkfDGJoWFUoxySEPjS2RV3lL/uGpw8G0785LdQp8qCb/j0UvE1JGxAQHUQFNYYZjC3fBF/wYhE8FJSzgVSwo4akfGKlQadgHHKxUv4UQhGxXAziLaEEHAJNWeet6nZQhhg0ZaCdwAom37lx5lEZGGjoZ3gpV4wVqzx2iir8sMRn6U6sgRlS7ES8fRrbgJ6PB2DwGfBttolL5Lx+Zo/oMFApx+BF6caZU7dtUxWt6O8EhoxZrroIIDaL1MaUA1p7hV7IRhl6xc8i/8yEu5FDytpmFPXj7eDts2yhPzndnndTvSMM3gYYCrEMlA+ZpnxMPiLism2eZwZZBrwBgodSrFW+7+pT+rR2zqcPFwxSkPceUKwG6byXyd/YZ8lHDGI3YPBiAn5pJ8tCwwXtAPp6hD6Nfsueefqj99VSEU+ldpcuML4qtL0JWFzqKkJ7m3RGbxAog2Hn01X6gA0b5JjHBTrJG8TJEpoj9AHI1z3Km5go7cRAinLFcNR3eJN4AVvVoZ8Qmw35PqJvlMmb9mKoqIcxQz1iXCxZjG2f74P9hPJ5vLWBTZwmPvQIz5IwnLjESUbovHx9pOn7dEbeIFRH3mKyQRcwgIDeFCvdCvJjROu3+TL0x6JeimXQMfq2ybffoN+EH8iNejCuB4NujT96B602+RQv8htlttv+zcljgozXg+nfQ0LWAJXxj3/8I1ydkFm1Yduz7dqtkAlOeMe7nVC13FaoQk8R6Hv11Vcbd+VoR1csUz5DhbxeeeXto2daYag8KmKo9PsdmvuNXtc7Yqj5lvEvplWRw0mTJoUjkhyVBH7jt0UZcH/MMccMOIajDA8//HCazVobd+8gG5wa/70D+WSG51R07rvvvmk2IIc6ufw/3MgUaTjyoAjHIRR5g8bHHntsKr7k2yQzyNMTTzyxcTc8mDx5cuO/d1BGv/vM0CqVl2wiGI6OKP6mDBdeeGHqiJIydJKfbMAeUEan9yPK+A7ZRLLx3zvw3i233DKgntnAH44FAWWSNW013EBvVXlzP2XKlNJ6Szv22GPTk046aarf9RvKRpejScjCHXfcMRUNmfE3oF+A3xXr4nfSHn300dL6a6e77rqrkTIQeFYsI5skTFUGSMP3/Pv58tCrrGzS0EipDnk66qdIfzt41+9aXXkMd/8eLLoy/mrUqDE8eO2118L5dPkz2Mrw5JNPBiMxm4E2UvqDu+++OyjM66+/Pv35z3+ennXWWUGhTcu48sorm8bstIYxY8ZUGhx+//vfh3NQyVMrMKid4/bAAw80UlpjuOQtb5QbTLXTr371q3A/LWL11VcPht9RRx3V1wF9JKFe7Yy/XuILX/jCoM/909+dlTua26Fq/x4Kml/4qFGjxuiCZRLL/8WdvUWIQ7GMHI9o6AcsWRchLb/8Oi3BkrdlJKEC/eRbv2B5VDiGv3EpqQzUuysuS7WCuF4hBu3yihgOebMMbPOH+M8Y/C/Yvgp9oxXaQeiG5VaxYtMb1M/SsRCFfuoF8aHCceLXnKZHVO3fQ0Ft/NWoUaMjytTEtKp4ba5yXIM4HnUQA+hTgdMShmNwGGmQObFS4jIZr9NiPbWPDQDkTX3EyKmH9OkN6tdv408cPAPahjObQcTEi0ud3jAc/Xv4I7Zr1KgxzYECKl7TIhh8jpewiUbQu81UDoGuMfpAxuwM5WGcVuUNIu1vvfVWMGbJXo3u4bgam+ls8nAiw5xzzjlgN3mN7lB7/mrUqDHDwK5Rg4ejfFyO3XF8RH73/WhG9B6BnYbO2nOywvS4jDg9gMHnTDo7rh3ZY/naSQhVziyclsDbRx6FD+hfjn0ZP358T432stCT6c3zPZz9uzb+atSoMcOglbqblgaQWAd/0T09DX7TI2aE9irWEXpdz1hGHjMCL/tVx9r4q1GjRo0aNWrUmIFQx/zVqFGjRo0aNWrMQKiNvxo1apRCvJLPNb3Z+FRjjd7CcSZilmre1qhRY7hRG381atSYCj73ZHedTy/6tJfddYzBGr0Bg++0006r/OnEGjVq1OglauNvOkf8Fur0DB+M9w3QfoIR1Oqj5dMLfDvV+Vx2JjL8GCiOpfBd0B/96EfJiy++2Hizd3j++eene76+9NJLYYen8wUjJk6c2PyOd40aNWoMN0aN8efUeFc7/OMf/2h+KLtGZ1x22WXhHLPR4F1gSBx00EE9P9xUvj6EzTjpF5ThI+MMopEEz9stt9wSPgJ+66239twTF+VEffMfWh87dmz4e80114S/vYJyzjjjjPDh/pGCJW28dATM+eefH45/QVcvga/Od4u79rTbT3/6045f3ahRo0aNfmFYtM8JJ5wQPsfy6quvNlIGgrI1sDqxu92A9rOf/Sz5xje+EWbSNdoDT3nDeBc+/vGPN1JHDjwd1157bc8H1smTJ4eBdbnllmuk9B5PP/108sADD/S1jE4w6dlnn32Sxx57LFliiSWSfffdN3yarFcGoHaRt08mOVvKFwnieVN4DA7c7TXuuOOOZLXVVuu5XFQBw4/heeyxxyarr756+BLDTjvtFJa4e0nPlClTgjHtawRw9tlnJ7vttlv4v0aNGjVGAsNi/DHW/vKXv7RUqAbv2267Ldl8883bzoYpaJg0aVL4W6M1eFENrBtvvHEyxxxzNFJHBr5Re/rppzfuegvf/WTgbrLJJo2U3uO+++7rSRkMNQeVdmtY8HjzbjLi/V6bOumecd8rIwVtjBSfTcqfKyX/I488MkzgPv3pTzdSewNGtSV79RmJ87ocoqrcjTbaKBi9DEHL+5a/e2VUR76ut956ycwzzxzKJLPLLrts440aNWrUGH6MinWHm266KcyMF1tssUZKOZyKzgDkATQg1miNuIRnYB1JMB54OnbcccdGSu8gbxsTDN7zzTdfI7W3UAavHz72Ikarlfe7FZRvOdIESexdNJJ44XzaqFdLh2JD55lnnmTFFVdspLxd9lZbbZXssssu4csE7nuJe++9N1l55ZWTVVddtZEyvGB86if5dl1ooYWShx9+ODzrBUx8xDSuvfbawRAU9rD++usnN954Y9PA9LzXvK1Ro0aNdphq5HjjjTeCl87l/wjKiTeJwvK/z7gU34no9DwPyvE3v/lNGADMjCNiHgLCvRPhw9HPPPNM8sc//rGRMhDo86mZRx55pHlvNs9IiLTIWx4GvFif0QZ0GYRiMLx7dRbzZbkK0P3ss88mN9xww1T14G3gqemXUVQVcSB973vf20gZCMddaBv0u7S1tuMdcQ+vvfZaWJLkJYpp4N3777+/o0eKHCmDBzpfRmx/8Nc3X/EtXwbwNJPPXninujX+Xn/99eSCCy5IllxyyWTWWWdttr34yUMOOaRJE5offPDBpiHhnoxfd911A+Tepg2eTHTk5QW/GSh5Y3KNNdZIjjvuuGTMmDHJOeeck5x77rmNJ29DGXj4xBNPNO/xEK8jnZGOGKMYy/TXbxmVI+H1A/Wy43adddYJ93jg01TuF1hggZAGTz31VHLnnXcG+l30GsPVuxFRpvRH70So4zLLLJMsvPDCoZ4M+Pnnnz9MZEeq3jVq1KjR/MIHhXXRRRcFZfjyyy+Hhx/5yEeSo48+Oll00UWDchNztMIKK4TlRAZb8R0QmyS+z6DMk0DBvec97wlxRMcff3wy22yzhfciGAZ77713CKi3lAWUrYHtoYceCkoSPdtuu21YlhGQ7a9LrFAe6iBOyQDGWDjllFPCTJuS/tjHPhY8jOJ79ttvv6CAzcDFoZ188slBOQ8FeYVfFa28Nppkhx12CIO9ZSL1uP322wOtvpnIoDrggAOCUStwnEFsULdkxwsG+MBbJW2kgCdkJn5PVZuJdYrfKWQk7LHHHkGmGIfagyzNO++8QWbIjtg28uQeP3h8bRLwsXfLnnhz5plnthxI8c9SKQ+TmC58IQOxDIYhuVQu45oXiLEpz1iGZc+LL754yIM1g0j7XHnllZXzsvMWXywT6nO+88hI+eQnP5kcddRRgUby4vuhwFBVF/XmIScb5B7f8fg73/lO4AU+FuXl4IMPThZccMFwb5nZxOuf//xnMEBdxxxzTLL44ouH59oWXehh2HmfcZjva+4vv/zyptwy3ukXfQ3NaOMBm2uuuUKeIwV1oXPIAX1EH3zoQx8Kz4QroHnuuecO3/+1OmEJHA+ffPLJwAN6S1uQHTLFcIyGuYnohz/84bCsnIf6003aVP698uDWqFGjRiVkSijglVdeSbNBLs1mqmmmDNPM4EqzQTPNBt70jTfeCM+zQTsdO3Zs851sBpzuuOOO6aGHHhruswEizYySdOedd06zGXDI96WXXkrHjRsXfiuPIjIDL80MuzQb5MJ9NhinO+20U5oZCuG3IK9sMAtlZINWmg106fjx48OzPC699NL0hz/8YaBj+eWXT7fYYot0ypQp4VlM23777dNMyYe8ssE40JYZnuH/Irzz61//unHXHt/73vfSbHBI11hjjTQbEELZmQGXZoNqmhm3aWYApXvuuWe6yy67pFtuuWWaDZpN2orIBpVAq7r667ruuusG0OzKBo2Q5vK/PGM9skEnpI8UlK0tMgMg3JMZ9UBnRGachudo9ezrX/96k/7MMAxpm2++eZNPmSES0i677LJwnxn4aWZ4hP9bQZ5kJZaRGf5TlbH11ltPJSexDOl5mocC5a655ppdtcsjjzwS6NEXMyMqpOGD9j/88MNDnvoJecvLS2b4hXI8967nUV4gyou+HZGny3MXuT711FPDFfkG+hpeRh6W9TXPo9wqp9jXRlpGI/AW/ZlBl1599dVNmtCpPz/xxBPhHXUq8lBamdxmxmS4L4PfH3HEEeG9eI0GPtSoUWPGQXO6ySPHm2Q2bsZqk8Aqq6wSvCW8BBGbbbZZ8x2zYV4byzqWkcz6eRwyRRo8fcDbkF9CKcKyX2YUNme+lq7kkxlKzaVCefF8KNPSMG9gGSzNmGVHr2SmlJseyejNtETISyGvrP5hqebd7353uC/C7J1Xsgp4TnhdeDKuuOKKEKfFe8QzZRcz79GJJ54YjiQ577zzwjEskbYieFYzAzp4T4HXxlIUGvEKj+085dGK9Xj00UdDPfwP6CmrUydkg1jwhFS9WoFXTzuKGWsFMub8sxifiEdRDvCATEqLfFJHiOEBvElxB2Ur8OzxGke+2CEby4gyQR5iGeQBYhnSo6eyG7Tio35Slu79MsRlYiEXcXlypplmCv0hM8CCxwqv1lprrdD+QF7WXXfdpmzwlvOulclLHnl5UWcXb63jglx575S+ppz4m7K+Jo43yq0yi31tsDJaxr9WVxXwzumvVh94P/2NvyVjcVWg2Of0RcjLbVF+yuD3dlPzKsdrMHyoUaNGjcHiHW3egIGCYhekb+mmE/I7SQ32loksBQ8Wjz/+eMhzMMH1lrsMNpZFGY7ZjLrx5J0NEJZuIiwrW84WT1VUvo63eP3118OxGlVA+ZddBruydFcr+KKC5dB4xIYlpgiB/2D5LZ+HGKSlllqqbb6dYMAz2BuUW13RKHAxPspg8Degim8ySMrXX8jfT5gwIfDdhgp1tIQZ35kyZUowJvLHi6gjqGdVOLYDT4QBKCMaPMqQX1FOBlNGEZGPjCOGp6VV8WXiBk1k8K7IV5OBMgidgDnnnHOAjMb/TZbsJJVHnCzkZdzkSt1N0qJsxLoPRV5iqIedsa36Wl5uY19T5lAMHUvHRd4Vr7yM0kmdgB580Eauq6++OsRKSrM0a/lbnYo8lFaUW/GUNo30YnNQjRo1avQLTc1PMfOKMDx4sD74wQ8GL1q/QUnOPvvszZl2J/CEGNBaQXC7AZGHLw4y8hZ4TSmLlYqIR8aY0VPcLvA+TwYjlmFYBTwwgu27udoBDQZzNOcNEQM5xNgrUA8GV/TIxnpEFO9bIQ52DKZWl+fx2nTTTRu/HAh1Y9AxfOweNWjyHIEYKvex/gx1E4Zie0XjL6bxjPEmag/xWFXrBPJTTrEMg3c+LV8Gb3W+DP/7TZVyIx/VlZeXJ5hHmKFEPst43IqXnYwIcgdow/OijEc+5w2xTvJSFfglFrXIV2Xm5Vb+vJPAY1nGV1cViEks8q545WUUHa1gI432oftAHaLOU69Ik5hGyBvV4v30xXzdxd3yyuM1GRgsX2vUqFGj32gafwYms1bKU5A+D1pcxqkKBiPPSjvjrAheAx42s2sQUG2Jywy/DJag7bZr5V20o5PijgNbBKWcP1uLYne2IG8MY0LAdlx6s7TjKwoQZ/WdwOC0+aLqZQNBJzBO8jQbTBgxDJPoEZLmAGVLpJZA99prr6ZRG2EwVqcqgxGedXOVwS5Rxnb+OvXUU8OzXXfdNdxrH7DkBfEehBFoYwZuLEOajQ7ay47SuJTLQzNhwoTgaYt5FXHzzTcHmfTpsgh5GLx5rIpl2IHKY4RWciKMwGSAN1M5ftsJeR7lL/mVpbvKYPkweqbL2g+tEYyUorygfZFFFmkeo1SUFxtA7BaXjk9291aVFTLP+MzzEJRZpENfQ6u+pq3xwaU8Hrrtt99+qt3ErZDnWaerFfR1ZdvkET3sEHWXCanfo13/wcP8hCt6iPNyS+8wqvGVJ1eYh9+TUYaoEAh1rlGjRo2RRtP4s9zLqxYNIJ4Xyx/dwKzZIHPWWWeFnZO8HHb7UYqtIG6QIRNjZQx0llpPO+20kAflSTkzzszQDdDybTWjt1TNk5RfhmJI2hmbX+ZSP4O/uEYK2c5Iz5TluIa8oVAFdvPZRVr1smzWDpZ34zJZpBkveHcMrDEN7QZ9A6vdsNHrGcFY/ta3vtW4Gx4YNNHnigNwpDcOqOAvQ9DA6oqIy4Z5j2eUIQPrEUcc0Tx6xdE34rKih6sIZfC6yT+/hIyPUFaGsyTFafIyodvkRBm8lyYdVY2jMsT+VRXquPTSSwejIn7+UB4mM5YoY1gCeSku5UZ50adiWpQX/GPoMLgiD/weP6uijIfocOXpiH2NjDI07QYGu559Os6E065ucXd2Nw8X8JWeiGcb4muchPKeRlnF6zwPpdETebmVZgJtF7k8x48fH/4HPDXhi0fidAIdR8YuvPDCRkqNGjVq9BZva7MMjk3hUbLsy+tnY8LOO+8cgsurwjEHNkgwOCh1hpXlER6UVuCBYMwYkPzOvTPMwFElZtaOCqFQGTcGaMe0tNpEwmME3olgzIHztiJ4Nc3kDYCWc8zMKXu0MljzGOxAPxSIu4S8B4VhZ2DFE7SCvwZVhop6CFaPgxQ4AsSGhpECbxyZ4pEEAxojSjq+WmbN10car6vBNm8QqqMzCw899NAwSIvtAkZ0/mDiIuRn0wdjPl+GSYIy8t+wjWXgIcNG8D/EDUQQDfLBYjDGH96Z7DB6eSbFUpJpE47Y1lHu8zLO2CAvwhqK8mITg41ZeK2vSO9GTvCQQVrkIfogL7exrwljOOmkk8JkBN2M8ugRZhCa7EW57zd49MVk6v/bbbddmITw9qKR4bbBBhuE92I98zyUZik/L7eAr2RWPzRJka/nZNSEtCrQZEMOftSoUaNGX5ApsgH429/+Fo6MGCpeffXVAUdDtMPjjz+ebrTRRul9993XSHkbjoxwrEXECy+8EI7lcHxEKzz22GMDjq+I+HXJkS3ey4zOUA5kBuZU15gxY8IRFW8N81EM6M0GosbdO8gGx6locT9lypSp6u2IE/y66667RqQOEegiC/jsb55OR2MU5cTzYl3QLi0bFEvrr63Uswx4VizDMUXFMkAavhffVwbZciTIJZdc0kjtDvJ0dMhg2sFvJk6cGI4Xueqqq9IXX3yx8eQdTJ48ufHfO2glL/pclPs8solfZVl5+OGHg74oIh7blAe+OqqmWGa+HG14ww03NO6GB+jS1xxpk036msfV5FHGw8yoLpUROupPf/rTVM/IpvoV01uhG/1Zo0aNGt2iecjzSAIJDk7loSl6rvIw27bDVCxNq+Nehoo8O6I30BJMfoY/LQAvfbFBvJEYtRgIP63Vowq0GS+MmLxul+urAu/EcQlt4LnMLwNWRWYchHbgtRyt7cDrb2l7uGXFZjOeN+Ee3fJ1WgBPt9hGHsbpsX41atSYtjAqtJBBhmJ09lU7xWgppp+GH8QBTwD6j3/847D8jbZRYCN3BQarJWwxlZH2aa0OowkMNl+qEE954IEHNneIdgOyTZZGswHuHM/hBkPTrubp1fCrUaNGjdGGUaNpxfrNMsssjbtyGBj6afhFGJztILWJwMWjNJoH7CIYeXZh8pLaYRjpnxaN2JEGftmM4Jw6ELsmFsuu6xpDB8PPBGvcuHGBx2S1Ro0aNWr0F/U0uwUYS/lrWgJ6Bd5b8rXBwpIoTGtG7GgA489mpLgT2EYQO2WXz+0mrzE42NyBvzZeMADtoLWxokaNGjVq9BejIuavRv9guTLfxNNb3B+D1lEcYhzFjDmSxW7NXtbRLlhHEdld6ygQuzodszI9gYzEHdT46UskG264YfAW9wtCE4qQ1q+4zZEAvkaPu9jbN998M8ioflijRo0aI4Xa+JvOUWze6dHzp46uWLd+1NFmjVjG9BqXFmUl1rPfshLLy6PfZY4EinyF6bGeNWrUmHZQG381atSoUaNGjRozEOqYvxo1atSoUaNGjRkItfFXo0aNGjVq1KgxwyBJ/j+1zh+fGqC8lAAAAABJRU5ErkJggg==)"
      ],
      "metadata": {
        "id": "rwj_WX-j0K-U"
      }
    },
    {
      "cell_type": "code",
      "source": [
        "m1_p = raw_moments(normal, 1)\n",
        "m2_p = raw_moments(normal, 2)\n",
        "m3_p = raw_moments(normal, 3)\n",
        "m4_p = raw_moments(normal, 4)\n",
        "\n",
        "m2 = central_moments(normal, 2)\n",
        "m3 = central_moments(normal, 3)\n",
        "m4 = central_moments(normal, 4)\n",
        "\n",
        "m2_check = m2_p - m1_p**2\n",
        "m3_check = m3_p - 3*m1_p*m2_p + 2*m1_p**3\n",
        "m4_check = m4_p - 4*m1_p*m3_p + 6*m1_p**2*m2_p - 3*m1_p**4\n",
        "\n",
        "print(f\"m2: Central = {m2:.4f}, Formula = {m2_check:.4f}\")\n",
        "print(f\"m3: Central = {m3:.4f}, Formula = {m3_check:.4f}\")\n",
        "print(f\"m4: Central = {m4:.4f}, Formula = {m4_check:.4f}\")"
      ],
      "metadata": {
        "colab": {
          "base_uri": "https://localhost:8080/"
        },
        "id": "4AC0EpQW0Rzb",
        "outputId": "aa983ad8-d801-422d-d38c-85245d066e70"
      },
      "execution_count": 8,
      "outputs": [
        {
          "output_type": "stream",
          "name": "stdout",
          "text": [
            "m2: Central = 7.7444, Formula = 7.7444\n",
            "m3: Central = 5.5586, Formula = 5.5586\n",
            "m4: Central = 160.0348, Formula = 160.0348\n"
          ]
        }
      ]
    }
  ]
}