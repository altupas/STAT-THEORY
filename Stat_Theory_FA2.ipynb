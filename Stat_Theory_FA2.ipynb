{
  "nbformat": 4,
  "nbformat_minor": 0,
  "metadata": {
    "colab": {
      "provenance": []
    },
    "kernelspec": {
      "name": "python3",
      "display_name": "Python 3"
    },
    "language_info": {
      "name": "python"
    }
  },
  "cells": [
    {
      "cell_type": "markdown",
      "source": [
        "3.49"
      ],
      "metadata": {
        "id": "qV-1yM8--lJ-"
      }
    },
    {
      "cell_type": "code",
      "execution_count": null,
      "metadata": {
        "colab": {
          "base_uri": "https://localhost:8080/"
        },
        "id": "9aDiRn659kdM",
        "outputId": "fdd00251-ea9d-4839-fb8a-5e1d2670577f"
      },
      "outputs": [
        {
          "output_type": "stream",
          "name": "stdout",
          "text": [
            "(np.float64(1280.21), np.float64(1280.21), True)\n",
            "(np.float64(50918.6393328079), np.float64(50918.6393328079), True)\n"
          ]
        }
      ],
      "source": [
        "import sympy as sp\n",
        "import numpy as np\n",
        "\n",
        "x = sp.symbols('x')\n",
        "assert sp.expand((x-1)**2) == x**2 - 2*x + 1\n",
        "\n",
        "N = sp.symbols('N', integer=True, positive=True)\n",
        "j = sp.symbols('j', integer=True, positive=True)\n",
        "Xj = sp.Function('X')\n",
        "\n",
        "lhs = sp.summation((Xj(j) - 1)**2, (j, 1, N))\n",
        "rhs = sp.summation(Xj(j)**2, (j, 1, N)) - 2*sp.summation(Xj(j), (j, 1, N)) + N\n",
        "assert sp.simplify(lhs - rhs) == 0\n",
        "\n",
        "def verify_identity(X):\n",
        "    X = np.asarray(X, dtype=float)\n",
        "    lhs = np.sum((X - 1)**2)\n",
        "    rhs = np.sum(X**2) - 2*np.sum(X) + X.size\n",
        "    return lhs, rhs, np.allclose(lhs, rhs)\n",
        "\n",
        "X1 = [27, 12, 7.4, -5.5, 21]\n",
        "print(verify_identity(X1))\n",
        "\n",
        "rng = np.random.default_rng(42)\n",
        "X2 = rng.normal(0, 2, size=10_000)\n",
        "print(verify_identity(X2))"
      ]
    },
    {
      "cell_type": "markdown",
      "source": [
        "3.51\n"
      ],
      "metadata": {
        "id": "HgY0AWngKaVk"
      }
    },
    {
      "cell_type": "code",
      "source": [
        "import numpy as np\n",
        "import pandas as pd\n",
        "\n",
        "U = np.array([3, -2, 5])\n",
        "V = np.array([-4, -1, 6])"
      ],
      "metadata": {
        "id": "cqWdBHsPMwn6"
      },
      "execution_count": null,
      "outputs": []
    },
    {
      "cell_type": "code",
      "execution_count": null,
      "metadata": {
        "colab": {
          "base_uri": "https://localhost:8080/"
        },
        "id": "57145e4c",
        "outputId": "75c91a8b-ded6-4f41-c3e2-f49f6ecfd0ea"
      },
      "outputs": [
        {
          "output_type": "stream",
          "name": "stdout",
          "text": [
            "a. 20\n",
            "b. -37\n",
            "c. 53\n",
            "d. 6\n",
            "e. 226\n",
            "f. -62\n",
            "g. 2.0833333333333335\n"
          ]
        }
      ],
      "source": [
        "# (a) ∑UV\n",
        "sum_uv = np.sum(U * V)\n",
        "print(\"a.\", sum_uv)\n",
        "\n",
        "# (b) ∑(U + 3)(V - 4)\n",
        "sum_uplus3_vminus4 = np.sum((U + 3) * (V - 4))\n",
        "print(\"b.\", sum_uplus3_vminus4)\n",
        "\n",
        "# (c) ∑V²\n",
        "sum_v_squared = np.sum(V ** 2)\n",
        "print(\"c.\", sum_v_squared)\n",
        "\n",
        "# (d) (∑U)(∑V)²\n",
        "sum_u_sum_v_squared = np.sum(U) * (np.sum(V) ** 2)\n",
        "print(\"d.\", sum_u_sum_v_squared)\n",
        "\n",
        "# (e) ∑UV²\n",
        "sum_uv_squared = np.sum(U * (V ** 2))\n",
        "print(\"e.\", sum_uv_squared)\n",
        "\n",
        "# (f) ∑(U² - 2V² + 2)\n",
        "sum_expression_f = np.sum(U ** 2 - 2 * V ** 2 + 2)\n",
        "print(\"f.\", sum_expression_f)\n",
        "\n",
        "# (g) ∑(U/V)\n",
        "sum_u_div_v = np.sum(U / V)\n",
        "print(\"g.\", sum_u_div_v)"
      ]
    },
    {
      "cell_type": "markdown",
      "source": [
        "3.90"
      ],
      "metadata": {
        "id": "1Pch9JdxMr_4"
      }
    },
    {
      "cell_type": "code",
      "execution_count": 4,
      "metadata": {
        "colab": {
          "base_uri": "https://localhost:8080/"
        },
        "outputId": "ad86f495-3f62-461f-cb8a-d2ee7b5756b6",
        "id": "GT6L8bp4PaR5"
      },
      "outputs": [
        {
          "output_type": "stream",
          "name": "stdout",
          "text": [
            "Geometric Mean of Set (a): 4.140680833465288\n",
            "Geometric Mean of Set (b): 45.82579906814073\n"
          ]
        }
      ],
      "source": [
        "import numpy as np\n",
        "\n",
        "set_a = [3, 5, 8, 3, 7, 2]\n",
        "\n",
        "set_b = [28.5, 73.6, 47.2, 31.5, 64.8]\n",
        "\n",
        "product_a = np.prod(set_a)\n",
        "gm_a = product_a ** (1 / len(set_a))\n",
        "\n",
        "product_b = np.prod(set_b)\n",
        "gm_b = product_b ** (1 / len(set_b))\n",
        "\n",
        "print(f\"Geometric Mean of Set (a): {gm_a}\")\n",
        "print(f\"Geometric Mean of Set (b): {gm_b}\")"
      ]
    }
  ]
}