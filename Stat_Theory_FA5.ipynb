{
  "nbformat": 4,
  "nbformat_minor": 0,
  "metadata": {
    "colab": {
      "provenance": []
    },
    "kernelspec": {
      "name": "python3",
      "display_name": "Python 3"
    },
    "language_info": {
      "name": "python"
    }
  },
  "cells": [
    {
      "cell_type": "markdown",
      "source": [
        "8.18"
      ],
      "metadata": {
        "id": "7JsxOi9DnUoD"
      }
    },
    {
      "cell_type": "code",
      "execution_count": null,
      "metadata": {
        "colab": {
          "base_uri": "https://localhost:8080/",
          "height": 489
        },
        "id": "8747NED6g9Pj",
        "outputId": "558a1d65-0b2f-4601-d614-023fc87d2248"
      },
      "outputs": [
        {
          "output_type": "display_data",
          "data": {
            "text/plain": [
              "<Figure size 640x480 with 1 Axes>"
            ],
            "image/png": "[encoded data removed]"
          },
          "metadata": {}
        },
        {
          "output_type": "execute_result",
          "data": {
            "text/plain": [
              "(np.float64(2.4444444444444438), np.float64(12.333333333333334))"
            ]
          },
          "metadata": {},
          "execution_count": 1
        }
      ],
      "source": [
        "import numpy as np\n",
        "import itertools\n",
        "import pandas as pd\n",
        "import matplotlib.pyplot as plt\n",
        "\n",
        "population = [9, 9, 12, 12, 12, 12, 15, 15, 15]\n",
        "\n",
        "samples = list(itertools.product(population, repeat=2))\n",
        "\n",
        "sample_means = [np.mean(sample) for sample in samples]\n",
        "\n",
        "probability = 1 / len(samples)\n",
        "\n",
        "mean_of_means = np.mean(sample_means)\n",
        "variance = np.sum([(mean - mean_of_means)**2 * probability for mean in sample_means])\n",
        "\n",
        "samples_df = pd.DataFrame(samples, columns=['Sample 1', 'Sample 2'])\n",
        "samples_df['Mean'] = sample_means\n",
        "samples_df['Probability'] = probability\n",
        "samples_df['Weighted Mean'] = samples_df['Mean'] * samples_df['Probability']\n",
        "samples_df['Mean Squared'] = (samples_df['Mean']**2) * samples_df['Probability']\n",
        "samples_df\n",
        "\n",
        "plt.hist(sample_means, bins=10, density=True, alpha=0.6, color='g')\n",
        "plt.title(\"Sampling Distribution of the Mean\")\n",
        "plt.xlabel(\"Sample Mean\")\n",
        "plt.ylabel(\"Probability Density\")\n",
        "plt.grid(True)\n",
        "plt.show()\n",
        "\n",
        "variance, mean_of_means"
      ]
    },
    {
      "cell_type": "markdown",
      "source": [
        "8.21"
      ],
      "metadata": {
        "id": "csEGRl3Oj8_6"
      }
    },
    {
      "cell_type": "code",
      "source": [
        "import numpy as np\n",
        "import itertools\n",
        "\n",
        "population = [3, 7, 11, 15]\n",
        "sample_size = 2\n",
        "population_mean = np.mean(population)\n",
        "population_std_dev = np.std(population)\n",
        "sampling_distribution_mean = population_mean\n",
        "standard_error = population_std_dev / np.sqrt(sample_size)\n",
        "samples = list(itertools.product(population, repeat=sample_size))\n",
        "sample_means = [np.mean(sample) for sample in samples]\n",
        "calculated_sampling_distribution_mean = np.mean(sample_means)\n",
        "calculated_sampling_distribution_std_dev = np.std(sample_means)\n",
        "\n",
        "print(f\"Population Mean (a): {population_mean}\")\n",
        "print(f\"Population Standard Deviation (b): {population_std_dev}\")\n",
        "print(f\"Mean of the Sampling Distribution of Means (c): {sampling_distribution_mean}\")\n",
        "print(f\"Standard Deviation of the Sampling Distribution of Means (d): {standard_error}\")\n",
        "\n",
        "print(f\"Calculated Mean of Sampling Distribution: {calculated_sampling_distribution_mean}\")\n",
        "print(f\"Calculated Standard Deviation of Sampling Distribution: {calculated_sampling_distribution_std_dev}\")\n",
        "\n",
        "print(f\"Sample Means: {sample_means}\")"
      ],
      "metadata": {
        "colab": {
          "base_uri": "https://localhost:8080/"
        },
        "id": "JsSAS3ipj8ij",
        "outputId": "f6ecdbe0-42b0-45b0-f786-0f717cb63d4d"
      },
      "execution_count": null,
      "outputs": [
        {
          "output_type": "stream",
          "name": "stdout",
          "text": [
            "Population Mean (a): 9.0\n",
            "Population Standard Deviation (b): 4.47213595499958\n",
            "Mean of the Sampling Distribution of Means (c): 9.0\n",
            "Standard Deviation of the Sampling Distribution of Means (d): 3.162277660168379\n",
            "Calculated Mean of Sampling Distribution: 9.0\n",
            "Calculated Standard Deviation of Sampling Distribution: 3.1622776601683795\n",
            "Sample Means: [np.float64(3.0), np.float64(5.0), np.float64(7.0), np.float64(9.0), np.float64(5.0), np.float64(7.0), np.float64(9.0), np.float64(11.0), np.float64(7.0), np.float64(9.0), np.float64(11.0), np.float64(13.0), np.float64(9.0), np.float64(11.0), np.float64(13.0), np.float64(15.0)]\n"
          ]
        }
      ]
    },
    {
      "cell_type": "markdown",
      "source": [
        "8.34"
      ],
      "metadata": {
        "id": "T2HvCZ83ltbj"
      }
    },
    {
      "cell_type": "code",
      "source": [
        "import numpy as np\n",
        "from scipy.stats import norm\n",
        "\n",
        "n = 200\n",
        "p = 0.5\n",
        "mu = n * p\n",
        "sigma = np.sqrt(n * p * (1 - p))\n",
        "\n",
        "def normal_approximation_probability(lower, upper):\n",
        "    lower = lower * n\n",
        "    upper = upper * n\n",
        "\n",
        "    z_lower = (lower - mu) / sigma\n",
        "    z_upper = (upper - mu) / sigma\n",
        "\n",
        "    prob_lower = norm.cdf(z_lower)\n",
        "    prob_upper = norm.cdf(z_upper)\n",
        "\n",
        "    return prob_upper - prob_lower\n",
        "\n",
        "prob_less_than_40 = normal_approximation_probability(0, 0.40)\n",
        "print(f\"(a) Probability that less than 40% will be boys: {prob_less_than_40:.4f}\")\n",
        "\n",
        "prob_between_43_and_57_girls = normal_approximation_probability(0.43, 0.57)\n",
        "print(f\"(b) Probability that between 43% and 57% will be girls: {prob_between_43_and_57_girls:.4f}\")\n",
        "\n",
        "prob_more_than_54 = 1 - norm.cdf((0.54 * n - mu) / sigma)\n",
        "print(f\"(c) Probability that more than 54% will be boys: {prob_more_than_54:.4f}\")"
      ],
      "metadata": {
        "colab": {
          "base_uri": "https://localhost:8080/"
        },
        "id": "tnxd1kzDlt8q",
        "outputId": "6658a165-ce78-4a72-cd80-45ae0479a849"
      },
      "execution_count": null,
      "outputs": [
        {
          "output_type": "stream",
          "name": "stdout",
          "text": [
            "(a) Probability that less than 40% will be boys: 0.0023\n",
            "(b) Probability that between 43% and 57% will be girls: 0.9523\n",
            "(c) Probability that more than 54% will be boys: 0.1289\n"
          ]
        }
      ]
    },
    {
      "cell_type": "markdown",
      "source": [
        "8.49"
      ],
      "metadata": {
        "id": "cp-kSLGtmPl6"
      }
    },
    {
      "cell_type": "code",
      "source": [
        "import itertools\n",
        "\n",
        "values = [6, 9, 12, 15, 18]\n",
        "probabilities = [0.1, 0.2, 0.4, 0.2, 0.1]\n",
        "\n",
        "samples = list(itertools.product(values, repeat=2))\n",
        "\n",
        "sample_means = [(sample[0] + sample[1]) / 2 for sample in samples]\n",
        "sample_probabilities = [probabilities[values.index(sample[0])] * probabilities[values.index(sample[1])] for sample in samples]\n",
        "\n",
        "print(f\"{'Sample':<10}{'Mean':<10}{'Probability':<10}\")\n",
        "for sample, mean, prob in zip(samples, sample_means, sample_probabilities):\n",
        "    print(f\"{str(sample):<10}{mean:<10}{prob:<10.4f}\")"
      ],
      "metadata": {
        "colab": {
          "base_uri": "https://localhost:8080/"
        },
        "id": "S5LoIo7omQJq",
        "outputId": "4940a201-2ab7-4e4b-81e3-ff25be54d927"
      },
      "execution_count": null,
      "outputs": [
        {
          "output_type": "stream",
          "name": "stdout",
          "text": [
            "Sample    Mean      Probability\n",
            "(6, 6)    6.0       0.0100    \n",
            "(6, 9)    7.5       0.0200    \n",
            "(6, 12)   9.0       0.0400    \n",
            "(6, 15)   10.5      0.0200    \n",
            "(6, 18)   12.0      0.0100    \n",
            "(9, 6)    7.5       0.0200    \n",
            "(9, 9)    9.0       0.0400    \n",
            "(9, 12)   10.5      0.0800    \n",
            "(9, 15)   12.0      0.0400    \n",
            "(9, 18)   13.5      0.0200    \n",
            "(12, 6)   9.0       0.0400    \n",
            "(12, 9)   10.5      0.0800    \n",
            "(12, 12)  12.0      0.1600    \n",
            "(12, 15)  13.5      0.0800    \n",
            "(12, 18)  15.0      0.0400    \n",
            "(15, 6)   10.5      0.0200    \n",
            "(15, 9)   12.0      0.0400    \n",
            "(15, 12)  13.5      0.0800    \n",
            "(15, 15)  15.0      0.0400    \n",
            "(15, 18)  16.5      0.0200    \n",
            "(18, 6)   12.0      0.0100    \n",
            "(18, 9)   13.5      0.0200    \n",
            "(18, 12)  15.0      0.0400    \n",
            "(18, 15)  16.5      0.0200    \n",
            "(18, 18)  18.0      0.0100    \n"
          ]
        }
      ]
    }
  ]
}